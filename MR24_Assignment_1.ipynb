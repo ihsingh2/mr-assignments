{
 "cells": [
  {
   "cell_type": "markdown",
   "metadata": {},
   "source": [
    "## Roll number: 2023122002"
   ]
  },
  {
   "cell_type": "markdown",
   "metadata": {},
   "source": [
    "\n",
    "### Instructions\n",
    " * Fill in the roll-number in the cell above.\n",
    " * Code must be submitted in Python in jupyter notebooks. We highly recommend using anaconda/miniconda distribution or at the minimum, virtual environments for this assignment.\n",
    " * All the code and result files should be uploaded in the github classroom.\n",
    " * For this assignment, you will be using Open3D  extensively. Refer to [Open3D](http://www.open3d.org/docs/release/) documentation.\n",
    " *  Most of the questions require you to **code your own functions** unless there is a need to call in the abilities of the mentioned libraries, such as Visualisation from Open3D. Make sure your code is modular since you will be reusing them for future assignments. All the functions related to transformation matrices, quaternions, and 3D projection are expected to be coded by you.\n",
    " *  All the representations are expected to be in a right-hand coordinate system.\n",
    "<!--  * Answer to the descriptive questions should be answered in your own words. Copy-paste answers will lead to penalty. -->\n",
    " * You could split the Jupyter Notebook cells where TODO is written, but please try to avoid splitting/changing the structure of other cells.\n",
    " * All the visualization should be done inside the notebook unless specified otherwise.\n",
    " * Plagiarism will lead to heavy penalty.\n",
    " * Commit the notebooks in the repo and any other results files under the result folder in the GitHub Classroom repo. \n",
    " * Commits past the deadline will not be considered.\n",
    " * This is a group assignment. Discussions are encouraged but any sharing of code among different teams will be penalized. \n",
    "\n",
    "### Instructions for group formation\n",
    " * We have circulated google sheet in moodle to fill in team members. Please finalize the teams formation by 18th Aug (tentative deadline). Same teams will be working towards project and other 2 Assignments as well. \n",
    " \n"
   ]
  },
  {
   "cell_type": "markdown",
   "metadata": {},
   "source": [
    "# Q1: Transformations and Projections on Autonomous Driving Dataset (20 Points)\n",
    "\n",
    "In this question, you will work with real world autonomous driving dataset (sequence in Waymo dataset). The dataset has LiDAR point clouds, images. You are required to demonstrate: \n",
    "\n",
    "**I. Various transformations of rotation matrices as described in below tasks.**\n",
    "\n",
    "**II. Visualization as a result of above transformations in Open3D**\n",
    "\n",
    "## Given data:\n",
    "\n",
    "1.) `LiDAR Point Clouds` : Stored at each timestep in the folder `lidar`. The point clouds are provided in the ego frame attached to lidar sensor (vehicle's reference frame).\n",
    "\n",
    "2.) `Images` : Stored at each timestep in the folder `images`. \n",
    "\n",
    "**Naming Convention** : {timestep}_{cam_no}.jpg where timestep is specified in 3 digits and cam_no : [0, 1, 2] indicates centre, left and right camera respectively.\n",
    "\n",
    "3.) `Camera-to-Ego Transformations`: Stored in the folder `cam2ego`, which converts points from each camera's reference frame to the vehicle's (or ego) reference frame.\n",
    "\n",
    "4.) `Ego-to-World Transformations`: Stored in the folder `ego2world`, which converts points from the vehicle's reference frame to the world frame W.\n",
    "\n",
    "5.) `Camera Intrinsics`: Stored in the folder `intrinsics` provided for 3 cameras.\n",
    "\n",
    "\n"
   ]
  },
  {
   "cell_type": "markdown",
   "metadata": {},
   "source": [
    "### Helper functions to read lidar data and camera instrinsics are provided below"
   ]
  },
  {
   "cell_type": "markdown",
   "metadata": {},
   "source": [
    "Header Files "
   ]
  },
  {
   "cell_type": "code",
   "execution_count": 2,
   "metadata": {},
   "outputs": [],
   "source": [
    "import numpy as np\n",
    "import open3d as o3d\n",
    "import os \n",
    "import matplotlib.pyplot as plt\n",
    "import cv2"
   ]
  },
  {
   "cell_type": "code",
   "execution_count": 3,
   "metadata": {},
   "outputs": [],
   "source": [
    "# Helper function to read instrinsic matrix\n",
    "def read_intrinsic(timestep):\n",
    "    intrinsic = np.loadtxt(f\"sample_intrinsic_{timestep}.txt\")\n",
    "    fx, fy, cx, cy = intrinsic[0], intrinsic[1], intrinsic[2], intrinsic[3]\n",
    "    intrinsic_matrix = np.array([[fx, 0, cx], [0, fy, cy], [0, 0, 1]])\n",
    "\n",
    "read_intrinsic(1)"
   ]
  },
  {
   "cell_type": "code",
   "execution_count": 4,
   "metadata": {},
   "outputs": [
    {
     "name": "stdout",
     "output_type": "stream",
     "text": [
      "(165454, 3)\n",
      "[[-65.95801     4.640503    5.0833435]\n",
      " [-66.268555   13.631836    5.147156 ]\n",
      " [-66.59082    13.86438     5.162674 ]]\n",
      "(165454, 3)\n",
      "[[ 1.1308594  -0.00421143  2.184044  ]\n",
      " [ 1.1435547  -0.00396729  2.184044  ]\n",
      " [ 1.1435547  -0.00396729  2.184044  ]]\n",
      "(165454,)\n",
      "[0. 0. 0.]\n"
     ]
    }
   ],
   "source": [
    "# Helper function to read lidar data at timestep 0 (same logic to read lidars at all remaining timesteps)\n",
    "\n",
    "lidar_data = np.memmap('sample_lidar_data_000.bin',\n",
    "                dtype=np.float32,\n",
    "                mode=\"r\",\n",
    "            ).reshape(-1, 14)   # (165454, 14)\n",
    "\n",
    "lidar_origins = lidar_data[:, :3]\n",
    "lidar_points = lidar_data[:, 3:6]   # (165454, 3)\n",
    "lidar_ids = lidar_data[:, -1]   # (165454,)\n",
    "\n",
    "# Lidar points to be used \n",
    "print(lidar_points.shape)\n",
    "print(lidar_points[:3,:])\n",
    "print(lidar_origins.shape)\n",
    "print(lidar_origins[:3,:])\n",
    "print(lidar_ids.shape)\n",
    "print(lidar_ids[:3])"
   ]
  },
  {
   "cell_type": "markdown",
   "metadata": {},
   "source": [
    "\n",
    "**Note:** Even though Waymo dataset has 5 cameras, you are given the dataset corresponding to middle 3 cameras only. Please ignore other 2 cameras.\n",
    "\n",
    "## Notation for tasks:\n",
    "\n",
    "a.) `Global Reference Frame G`: Defined as the first ego frame (i.e., the translation vector of ego2world[0] is the origin of frame G in world frame W).\n",
    "\n",
    "World Frame W: A fixed world reference frame.\n",
    "\n",
    "b.) `Ego Frame`: Attached to the LiDAR and changes as the vehicle moves.\n",
    "\n",
    "c.) `Camera Frames`: Each of the 5 cameras has its own frame, which changes as the vehicle moves.\n",
    "\n",
    "Note: Axis directions of `Ego Frame` and `Camera Frames` are aligned with the Waymo Coordinate System (LiDAR) described below\n",
    "\n",
    "## Coordinate Systems:\n",
    "\n",
    "**OpenCV Coordinate System:** x right, y down, z front.\n",
    "\n",
    "**Waymo Coordinate System (LiDAR):** x front, y left, z up.\n",
    "\n",
    "\n",
    "![Waymo Setup](./waymo_setup.jpg \"Waymo Setup\")\n",
    "\n",
    "Link to dataset (one sequence) : https://drive.google.com/drive/folders/17YDx2Yn1KmPjmlaHsoFz4Jpa8zpgovO2?usp=drive_link\n",
    "\n",
    "If you want to try on other sequences as well, please refer to : https://waymo.com/open/"
   ]
  },
  {
   "cell_type": "markdown",
   "metadata": {},
   "source": [
    "### `Task 1`. Transformations of LiDAR Point Clouds (10 points)\n",
    "\n",
    "**Instructions:** \n",
    "\n",
    "Transform the LiDAR point clouds at all timesteps to the global reference frame G. Concatenate these transformed point clouds.\n",
    "    \n",
    "Visualization: Use Open3D to visualize the concatenated point cloud in the global reference frame G. Also, display the concatenation process at every timestep starting from first point cloud\n",
    "\n",
    "\n",
    "\n"
   ]
  },
  {
   "cell_type": "code",
   "execution_count": 5,
   "metadata": {},
   "outputs": [],
   "source": [
    "\n",
    "def ReadLidarPoints(filename):\n",
    "    \n",
    "    lidar_data = np.memmap(filename, dtype=np.float32,mode=\"r\").reshape(-1, 14)  \n",
    "\n",
    "    lidar_origins = lidar_data[:, :3]\n",
    "\n",
    "    lidar_points = lidar_data[:, 3:6]   \n",
    "\n",
    "    lidar_ids = lidar_data[:, -1] \n",
    "\n",
    "    return lidar_points\n",
    "\n",
    "def ReadTransformationMatrix(filepath):\n",
    "\n",
    "    data = np.loadtxt(filepath, dtype=np.float32)\n",
    "\n",
    "    if data.size != 16:\n",
    "        print(\"Error!!  : Error occured in Reading in Transformation Matrix (the size is not 16)\")\n",
    "\n",
    "    matrix = data.reshape(4, 4)\n",
    "    \n",
    "    return matrix\n",
    "\n",
    "def Transformation(LidarData, TransferMatrix):\n",
    "\n",
    "    RotationMatrix = TransferMatrix[:3, :3]\n",
    "\n",
    "    TranslationMatrix = TransferMatrix[:3, 3]\n",
    "    \n",
    "    TransformedData = np.dot(LidarData[:, :3], RotationMatrix.T) + TranslationMatrix\n",
    "    \n",
    "    return TransformedData\n",
    "\n",
    "def VisualizeCloudPoints(point_clouds):\n",
    "\n",
    "    combined_pcd = o3d.geometry.PointCloud()\n",
    "\n",
    "    all_points = np.vstack(point_clouds)\n",
    "\n",
    "    combined_pcd.points = o3d.utility.Vector3dVector(all_points)\n",
    "\n",
    "    o3d.visualization.draw_geometries([combined_pcd])\n",
    "\n",
    "def ConcatenatedCloudPoints(t):\n",
    "\n",
    "    all_points = []\n",
    "\n",
    "    for i in range(0, t):\n",
    "\n",
    "        LidarData = ReadLidarPoints(f\"lidar/{i:03d}.bin\")\n",
    "\n",
    "        TransferMatrix = ReadTransformationMatrix(f\"ego2world/{i:03d}.txt\")\n",
    "\n",
    "        TransformedData = Transformation(LidarData, TransferMatrix)\n",
    "\n",
    "        all_points.append(TransformedData)\n",
    "\n",
    "    return all_points\n",
    "\n",
    "t = 5\n",
    "AllPoints = ConcatenatedCloudPoints(t)\n",
    "\n",
    "VisualizeCloudPoints(AllPoints)"
   ]
  },
  {
   "cell_type": "markdown",
   "metadata": {},
   "source": [
    "### `Task 2`. Projecting LiDAR Point Clouds onto images (10 points)\n",
    "\n",
    "**Instructions:**\n",
    "\n",
    "Transform the concatenated point cloud from task 1 to the frame of each of the 3 cameras at timesteps `0, 20, and 55`. \n",
    "    \n",
    "Project these transformed point clouds onto the respective camera frames using the provided camera intrinsics. Concatenated point cloud would be very dense, so randomly select arbitrary number of points for better visualization. \n",
    "\n",
    "**Projected image pixel x : K * X_3d where X_3d is the 3d point in camera frame.**\n",
    "    \n",
    "Visualization: Overlay the projected points onto the camera images and visualize them.\n",
    "\n",
    "**For example:** Overlayed concatenated point cloud on camera `000_0.png` and `030_2.png` are shown below\n",
    "\n",
    "<table><tr>\n",
    "<td> <img src=\"./projected_000_0.png\" alt=\"Drawing\" style=\"width: 750px;\"/> </td>\n",
    "<td> <img src=\"./projected_030_2.png\" alt=\"Drawing\" style=\"width: 750px;\"/> </td>\n",
    "</tr></table>\n",
    "\n"
   ]
  },
  {
   "cell_type": "code",
   "execution_count": 15,
   "metadata": {},
   "outputs": [
    {
     "data": {
      "image/png": "[encoded data removed]",
      "text/plain": [
       "<Figure size 1200x800 with 1 Axes>"
      ]
     },
     "metadata": {},
     "output_type": "display_data"
    },
    {
     "data": {
      "image/png": "[encoded data removed]",
      "text/plain": [
       "<Figure size 1200x800 with 1 Axes>"
      ]
     },
     "metadata": {},
     "output_type": "display_data"
    },
    {
     "data": {
      "image/png": "[encoded data removed]",
      "text/plain": [
       "<Figure size 1200x800 with 1 Axes>"
      ]
     },
     "metadata": {},
     "output_type": "display_data"
    },
    {
     "data": {
      "image/png": "[encoded data removed]",
      "text/plain": [
       "<Figure size 1200x800 with 1 Axes>"
      ]
     },
     "metadata": {},
     "output_type": "display_data"
    },
    {
     "data": {
      "image/png": "[encoded data removed]",
      "text/plain": [
       "<Figure size 1200x800 with 1 Axes>"
      ]
     },
     "metadata": {},
     "output_type": "display_data"
    },
    {
     "data": {
      "image/png": "[encoded data removed]",
      "text/plain": [
       "<Figure size 1200x800 with 1 Axes>"
      ]
     },
     "metadata": {},
     "output_type": "display_data"
    },
    {
     "data": {
      "image/png": "[encoded data removed]",
      "text/plain": [
       "<Figure size 1200x800 with 1 Axes>"
      ]
     },
     "metadata": {},
     "output_type": "display_data"
    },
    {
     "data": {
      "image/png": "[encoded data removed]",
      "text/plain": [
       "<Figure size 1200x800 with 1 Axes>"
      ]
     },
     "metadata": {},
     "output_type": "display_data"
    },
    {
     "data": {
      "image/png": "[encoded data removed]",
      "text/plain": [
       "<Figure size 1200x800 with 1 Axes>"
      ]
     },
     "metadata": {},
     "output_type": "display_data"
    }
   ],
   "source": [
    "\n",
    "\n",
    "def read_lidar_points(filename):\n",
    "    if not os.path.exists(filename):\n",
    "        print(f\"Error: LiDAR file not found: {filename}\")\n",
    "        return None\n",
    "    lidar_data = np.fromfile(filename, dtype=np.float32).reshape(-1, 14)\n",
    "    return lidar_data[:, :3]  # Return only x, y, z coordinates\n",
    "\n",
    "def read_transformation_matrix(filepath):\n",
    "    if not os.path.exists(filepath):\n",
    "        print(f\"Error: Transformation matrix file not found: {filepath}\")\n",
    "        return None\n",
    "    data = np.loadtxt(filepath, dtype=np.float32)\n",
    "    return data.reshape(4, 4)\n",
    "\n",
    "def read_intrinsic_transformation_matrix(filepath):\n",
    "    if not os.path.exists(filepath):\n",
    "        print(f\"Error: Intrinsic matrix file not found: {filepath}\")\n",
    "        return None\n",
    "    data = np.loadtxt(filepath, dtype=np.float32)\n",
    "    return data.reshape(3, 3)\n",
    "\n",
    "def transform_points(points, transform_matrix):\n",
    "    rotation = transform_matrix[:3, :3]\n",
    "    translation = transform_matrix[:3, 3]\n",
    "    return np.dot(points, rotation.T) + translation\n",
    "\n",
    "def read_image(image_path):\n",
    "    if not os.path.exists(image_path):\n",
    "        print(f\"Error: Image file not found: {image_path}\")\n",
    "        return None\n",
    "    image = cv2.imread(image_path)\n",
    "    if image is None:\n",
    "        print(f\"Error: Failed to read image: {image_path}\")\n",
    "    return image\n",
    "\n",
    "def concatenate_point_clouds(num_frames):\n",
    "    all_points = []\n",
    "    for i in range(num_frames):\n",
    "        lidar_points = read_lidar_points(f\"lidar/{i:03d}.bin\")\n",
    "        if lidar_points is None:\n",
    "            continue\n",
    "        ego2world = read_transformation_matrix(f\"ego2world/{i:03d}.txt\")\n",
    "        if ego2world is None:\n",
    "            continue\n",
    "        transformed_points = transform_points(lidar_points, ego2world)\n",
    "        all_points.append(transformed_points)\n",
    "    return np.vstack(all_points) if all_points else None\n",
    "\n",
    "def world_to_ego(points, frame_num):\n",
    "    ego2world = read_transformation_matrix(f\"ego2world/{frame_num:03d}.txt\")\n",
    "    if ego2world is None:\n",
    "        return None\n",
    "    world2ego = np.linalg.inv(ego2world)\n",
    "    return transform_points(points, world2ego)\n",
    "\n",
    "def ego_to_camera(points, cam_id):\n",
    "    cam2ego = read_transformation_matrix(f\"cam2ego/{cam_id:01d}.txt\")\n",
    "    if cam2ego is None:\n",
    "        return None\n",
    "    ego2cam = np.linalg.inv(cam2ego)\n",
    "    return transform_points(points, ego2cam)\n",
    "\n",
    "def project_to_image(points, cam_id):\n",
    "    intrinsics = read_intrinsic_transformation_matrix(f\"intrinsics/{cam_id:01d}.txt\")\n",
    "    if intrinsics is None:\n",
    "        return None\n",
    "    fx, fy, cx, cy = intrinsics[0, 0], intrinsics[1, 1], intrinsics[0, 2], intrinsics[1, 2]\n",
    "    \n",
    "    # Filter points in front of the camera\n",
    "    points = points[points[:, 2] > 0]\n",
    "    \n",
    "    # Project 3D points to 2D\n",
    "    points_2d = np.column_stack([\n",
    "        fx * points[:, 0] / points[:, 2] + cx,\n",
    "        fy * points[:, 1] / points[:, 2] + cy\n",
    "    ])\n",
    "    \n",
    "    return points_2d\n",
    "\n",
    "def overlay_points_on_image(image, points_2d, title):\n",
    "    if image is None or points_2d is None:\n",
    "        print(f\"Error: Cannot overlay points on image for {title}\")\n",
    "        return\n",
    "    \n",
    "    plt.figure(figsize=(12, 8))\n",
    "    plt.imshow(cv2.cvtColor(image, cv2.COLOR_BGR2RGB))\n",
    "    plt.scatter(points_2d[:, 0], points_2d[:, 1], s=1, c='red', alpha=0.5)\n",
    "    plt.title(title)\n",
    "    plt.axis('off')\n",
    "    plt.show()\n",
    "\n",
    "def main():\n",
    "    num_frames = 56  # Total number of frames\n",
    "    frames_to_process = [0, 20, 55]\n",
    "    camera_ids = [0, 1, 2]\n",
    "    \n",
    "    # Concatenate all point clouds\n",
    "    all_points = concatenate_point_clouds(num_frames)\n",
    "    if all_points is None:\n",
    "        print(\"Error: Failed to concatenate point clouds\")\n",
    "        return\n",
    "    \n",
    "    # Randomly sample points for better visualization\n",
    "    sampled_points = all_points[np.random.choice(all_points.shape[0], 100000, replace=False)]\n",
    "    \n",
    "    for frame in frames_to_process:\n",
    "        for cam_id in camera_ids:\n",
    "            # Transform points to ego frame\n",
    "            points_ego = world_to_ego(sampled_points, frame)\n",
    "            if points_ego is None:\n",
    "                continue\n",
    "            \n",
    "            # Transform points to camera frame\n",
    "            points_cam = ego_to_camera(points_ego, cam_id)\n",
    "            if points_cam is None:\n",
    "                continue\n",
    "            \n",
    "            # Project points to image plane\n",
    "            points_2d = project_to_image(points_cam, cam_id)\n",
    "            if points_2d is None:\n",
    "                continue\n",
    "            \n",
    "            # Read the corresponding image\n",
    "            image = read_image(f\"images/{frame:03d}_{cam_id:01d}.jpg\")\n",
    "            if image is None:\n",
    "                continue\n",
    "            \n",
    "            # Overlay points on the image\n",
    "            overlay_points_on_image(image, points_2d, f\"Frame {frame}, Camera {cam_id}\")\n",
    "\n",
    "if __name__ == \"__main__\":\n",
    "    main()"
   ]
  },
  {
   "cell_type": "markdown",
   "metadata": {},
   "source": [
    "## Bonus\n",
    "\n",
    "### `Task 3`. Compute Depth Image from Projected Point Cloud in camera frame (5 points)\n",
    "\n",
    "**Instructions:**\n",
    "\n",
    "Using the projected point clouds to camera frame from task 2, visualize the depth image by considering only the z-coordinate of the projected points in the camera frame.\n",
    "\n",
    "Visualization: Display the depth image for each of the 3 cameras at timesteps `0, 20, and 55` alongside the corresponding RGB image."
   ]
  },
  {
   "cell_type": "code",
   "execution_count": 17,
   "metadata": {},
   "outputs": [],
   "source": [
    "##############################################################################\n",
    "# TODO: TASK 3\n",
    "##############################################################################"
   ]
  },
  {
   "cell_type": "markdown",
   "metadata": {},
   "source": [
    "#### Note: You might be asked to show the above results for different timesteps and from one of the 3 cameras during evaluation/viva."
   ]
  },
  {
   "cell_type": "markdown",
   "metadata": {},
   "source": [
    "# Q2: Various Representations for Rotations and Gimbal lock (15 points)\n"
   ]
  },
  {
   "cell_type": "markdown",
   "metadata": {},
   "source": [
    "#### 2.1 Euler angles (2.5 points)"
   ]
  },
  {
   "cell_type": "markdown",
   "metadata": {},
   "source": [
    "a. Write a function that returns a rotation matrix given the angles (𝛼, 𝛽, 𝛾) = (2π/5, π/18, π/6) in radians (X-Y-Z). Do not use inbuilt functions.\n",
    "\n",
    "b. Solve for angles using fsolve from scipy for three initializations of your choice and compare.\n",
    "$$M(\\alpha , \\beta ,\\gamma)=\\left[\\begin{array}{rrr}0.26200263 & -0.19674724 &  0.944799  \\\\0.21984631 &  0.96542533  & 0.14007684 \\\\\n",
    "   -0.93969262 & 0.17101007 & 0.29619813\\end{array}\\right] \n",
    "$$"
   ]
  },
  {
   "cell_type": "code",
   "execution_count": 34,
   "metadata": {},
   "outputs": [
    {
     "name": "stdout",
     "output_type": "stream",
     "text": [
      "Rotation Matrix R:\n",
      "[[ 0.85286853 -0.01148507  0.52199939]\n",
      " [ 0.49240388  0.35019118 -0.79680898]\n",
      " [-0.17364818  0.93660783  0.30432233]]\n"
     ]
    }
   ],
   "source": [
    "##############################################################################\n",
    "# TODO: Do tasks described in 2.1 (a)\n",
    "\n",
    "def rotation_matrix_xyz(alpha, beta, gamma):\n",
    "    # Rotation matrix around X-axis\n",
    "    R_x = np.array([\n",
    "        [1, 0, 0],\n",
    "        [0, np.cos(alpha), -np.sin(alpha)],\n",
    "        [0, np.sin(alpha), np.cos(alpha)]\n",
    "    ])\n",
    "\n",
    "    # Rotation matrix around Y-axis\n",
    "    R_y = np.array([\n",
    "        [np.cos(beta), 0, np.sin(beta)],\n",
    "        [0, 1, 0],\n",
    "        [-np.sin(beta), 0, np.cos(beta)]\n",
    "    ])\n",
    "\n",
    "    # Rotation matrix around Z-axis\n",
    "    R_z = np.array([\n",
    "        [np.cos(gamma), -np.sin(gamma), 0],\n",
    "        [np.sin(gamma), np.cos(gamma), 0],\n",
    "        [0, 0, 1]\n",
    "    ])\n",
    "\n",
    "    # Combined rotation matrix (Rz * Ry * Rx)\n",
    "    R = R_z @ R_y @ R_x\n",
    "\n",
    "    return R\n",
    "\n",
    "# Given angles in radians\n",
    "alpha = 2 * np.pi / 5\n",
    "beta = np.pi / 18\n",
    "gamma = np.pi / 6\n",
    "\n",
    "# Compute the rotation matrix\n",
    "R = rotation_matrix_xyz(alpha, beta, gamma)\n",
    "print(\"Rotation Matrix R:\")\n",
    "print(R)\n"
   ]
  },
  {
   "cell_type": "code",
   "execution_count": null,
   "metadata": {},
   "outputs": [],
   "source": []
  },
  {
   "cell_type": "markdown",
   "metadata": {},
   "source": [
    "#### 2.2 Equivalent angle–axis representation (2.5 points) "
   ]
  },
  {
   "cell_type": "markdown",
   "metadata": {},
   "source": [
    " Write a function to convert equivalent angle–axis representation (with a general axis and angle) to matrix form and vice versa. \\\n",
    "Try it for $\\theta = \\pi/6$ and axis $K= [1, 2, 3]^T $"
   ]
  },
  {
   "cell_type": "code",
   "execution_count": null,
   "metadata": {},
   "outputs": [],
   "source": [
    "##############################################################################\n",
    "# TODO: Do tasks described in 2.2 \n",
    "##############################################################################\n"
   ]
  },
  {
   "cell_type": "markdown",
   "metadata": {},
   "source": [
    "#### 2.3 Gimbal lock (5 points)"
   ]
  },
  {
   "cell_type": "markdown",
   "metadata": {},
   "source": [
    "Show an example where a Gimbal lock occurs and visualize the Gimbal lock on the given point cloud, data/toothless.ply. You have to show the above by animation (rotation along each axis one by one).\n",
    "\n",
    "**Hint:** \n",
    "Create 3 disks perpendicular to each other representing axes for local frame of object. Show that in certain configuration, due to use of Euler angles we can lose a degree of freedom. \n",
    "\n",
    "Use Open3D's non-blocking visualization and discretize the rotation to simulate the animation. For example, if you want to rotate by 20° around a particular axis, do so in increments of 5° 4 times to make it look like an animation."
   ]
  },
  {
   "cell_type": "code",
   "execution_count": null,
   "metadata": {},
   "outputs": [],
   "source": [
    "##############################################################################\n",
    "# TODO: Do tasks described in 2.3\n",
    "##############################################################################\n"
   ]
  },
  {
   "cell_type": "markdown",
   "metadata": {},
   "source": [
    "#### 2.4: Quaternions (5 points)"
   ]
  },
  {
   "cell_type": "markdown",
   "metadata": {},
   "source": [
    "a. Convert a rotation matrix to quaternion and vice versa. Do not use inbuilt libraries for this question.\n",
    "\n",
    "b. Perform matrix multiplication of two 3×3 rotation matrices and perform the same transformation in the quaternion space. Verify if the final transformation obtained in both cases is the same.\n",
    "\n",
    "c. Try to interpolate any given model between two rotation matrices and visualize!"
   ]
  },
  {
   "cell_type": "code",
   "execution_count": 2,
   "metadata": {},
   "outputs": [],
   "source": [
    "##############################################################################\n",
    "# TODO: Do tasks described in 2.4 (a)\n",
    "##############################################################################"
   ]
  },
  {
   "cell_type": "code",
   "execution_count": 3,
   "metadata": {},
   "outputs": [],
   "source": [
    "##############################################################################\n",
    "# TODO: Do tasks described in 2.4 (b)\n",
    "##############################################################################"
   ]
  },
  {
   "cell_type": "code",
   "execution_count": 4,
   "metadata": {},
   "outputs": [],
   "source": [
    "##############################################################################\n",
    "# TODO: Do tasks described in 2.4 (c)\n",
    "##############################################################################"
   ]
  },
  {
   "cell_type": "markdown",
   "metadata": {},
   "source": [
    "# Q3: Interpolation between transformations (15 points)\n",
    "\n",
    "Given 2 random transformation matrices, interpolate the given point cloud **toothless.ply** from `T2` to `T1` and visualize it.\n",
    "\n",
    "We will use the `generateTransformation()` function to generate a random Transformation matrix. You can write your own `generateTransformation()` function for testing, but we will replace it with our own so make sure that your code works for general cases.\n",
    "\n",
    "Ensure that your visualization shows the starting and ending configurations during interpolation.\n",
    "\n",
    "Your final output should look something like this:\n",
    "![Visualization](./out.gif)"
   ]
  },
  {
   "cell_type": "code",
   "execution_count": 2,
   "metadata": {},
   "outputs": [],
   "source": [
    "def generate_transformation():\n",
    "    # Random rotation matrix (3x3)\n",
    "    theta = np.random.uniform(0, 2 * np.pi)\n",
    "    cos_theta, sin_theta = np.cos(theta), np.sin(theta)\n",
    "    rotation_matrix = np.array([\n",
    "        [cos_theta, -sin_theta, 0],\n",
    "        [sin_theta, cos_theta, 0],\n",
    "        [0, 0, 1]\n",
    "    ])\n",
    "    \n",
    "    # Random translation vector (3x1)\n",
    "    translation_vector = np.random.uniform(-10, 10, size=(3,))\n",
    "    \n",
    "    # Combine rotation and translation into a 4x4 transformation matrix\n",
    "    transformation_matrix = np.eye(4)\n",
    "    transformation_matrix[:3, :3] = rotation_matrix\n",
    "    transformation_matrix[:3, 3] = translation_vector\n",
    "    \n",
    "    return transformation_matrix"
   ]
  },
  {
   "cell_type": "code",
   "execution_count": 4,
   "metadata": {},
   "outputs": [
    {
     "name": "stderr",
     "output_type": "stream",
     "text": [
      "MovieWriter imagemagick unavailable; using Pillow instead.\n"
     ]
    },
    {
     "data": {
      "image/png": "[encoded data removed]",
      "text/plain": [
       "<Figure size 640x480 with 1 Axes>"
      ]
     },
     "metadata": {},
     "output_type": "display_data"
    }
   ],
   "source": [
    "def generate_transformation():\n",
    "    # Random rotation matrix (3x3)\n",
    "    theta = np.random.uniform(0, 2 * np.pi)\n",
    "    cos_theta, sin_theta = np.cos(theta), np.sin(theta)\n",
    "    rotation_matrix = np.array([\n",
    "        [cos_theta, -sin_theta, 0],\n",
    "        [sin_theta, cos_theta, 0],\n",
    "        [0, 0, 1]\n",
    "    ])\n",
    "    \n",
    "    # Random translation vector (3x1)\n",
    "    translation_vector = np.random.uniform(-10, 10, size=(3,))\n",
    "    \n",
    "    # Combine rotation and translation into a 4x4 transformation matrix\n",
    "    transformation_matrix = np.eye(4)\n",
    "    transformation_matrix[:3, :3] = rotation_matrix\n",
    "    transformation_matrix[:3, 3] = translation_vector\n",
    "    \n",
    "    return transformation_matrix\n",
    "\n",
    "def load_point_cloud(file_path):\n",
    "    pcd = o3d.io.read_point_cloud(file_path)\n",
    "    return np.asarray(pcd.points)\n",
    "\n",
    "def interpolate_transformation(T1, T2, alpha):\n",
    "    return np.linalg.inv(T2) @ (alpha * T1 @ T2)\n",
    "\n",
    "def apply_transformation(points, transformation):\n",
    "    homogeneous_points = np.hstack((points, np.ones((points.shape[0], 1))))\n",
    "    transformed_points = homogeneous_points @ transformation.T\n",
    "    return transformed_points[:, :3]\n",
    "\n",
    "def update_plot(num, points, line):\n",
    "    alpha = num / num_steps\n",
    "    T_interp = interpolate_transformation(T1, T2, alpha)\n",
    "    transformed_points = apply_transformation(points, T_interp)\n",
    "    line.set_data(transformed_points[:, 0], transformed_points[:, 1])\n",
    "    line.set_3d_properties(transformed_points[:, 2])\n",
    "    return line,\n",
    "\n",
    "# Generate random transformation matrices\n",
    "T1 = generate_transformation()\n",
    "T2 = generate_transformation()\n",
    "\n",
    "# Load the point cloud\n",
    "points = load_point_cloud('toothless.ply')\n",
    "\n",
    "# Set up the plot\n",
    "fig = plt.figure()\n",
    "ax = fig.add_subplot(111, projection='3d')\n",
    "line, = ax.plot([], [], [], 'o', markersize=1)\n",
    "\n",
    "# Set axis limits (optional, adjust as needed)\n",
    "ax.set_xlim([points[:, 0].min(), points[:, 0].max()])\n",
    "ax.set_ylim([points[:, 1].min(), points[:, 1].max()])\n",
    "ax.set_zlim([points[:, 2].min(), points[:, 2].max()])\n",
    "\n",
    "# Animation parameters\n",
    "num_steps = 50\n",
    "ani = animation.FuncAnimation(fig, update_plot, frames=num_steps + 1, fargs=(points, line), interval=100)\n",
    "\n",
    "# Save the animation\n",
    "ani.save('transformation_interpolation.gif', writer='imagemagick')\n",
    "\n",
    "plt.show()\n"
   ]
  },
  {
   "cell_type": "markdown",
   "metadata": {},
   "source": [
    "## Bonus (5 points)"
   ]
  },
  {
   "cell_type": "code",
   "execution_count": 20,
   "metadata": {},
   "outputs": [],
   "source": [
    "##############################################################################\n",
    "# TODO: Implement the above question using spherical linear interpolation (slerp)\n",
    "##############################################################################"
   ]
  },
  {
   "cell_type": "markdown",
   "metadata": {},
   "source": [
    "#### References: https://en.wikipedia.org/wiki/Slerp"
   ]
  },
  {
   "cell_type": "markdown",
   "metadata": {},
   "source": []
  }
 ],
 "metadata": {
  "kernelspec": {
   "display_name": "env_MR_A1",
   "language": "python",
   "name": "env_mr_a1"
  },
  "language_info": {
   "codemirror_mode": {
    "name": "ipython",
    "version": 3
   },
   "file_extension": ".py",
   "mimetype": "text/x-python",
   "name": "python",
   "nbconvert_exporter": "python",
   "pygments_lexer": "ipython3",
   "version": "3.8.10"
  }
 },
 "nbformat": 4,
 "nbformat_minor": 2
}
